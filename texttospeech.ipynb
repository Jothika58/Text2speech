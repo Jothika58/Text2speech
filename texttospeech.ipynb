{
  "nbformat": 4,
  "nbformat_minor": 0,
  "metadata": {
    "colab": {
      "name": "texttospeech.ipynb",
      "provenance": [],
      "authorship_tag": "ABX9TyMGDoKpfZQLPToDk5GR75iu"
    },
    "kernelspec": {
      "name": "python3",
      "display_name": "Python 3"
    },
    "language_info": {
      "name": "python"
    }
  },
  "cells": [
    {
      "cell_type": "code",
      "metadata": {
        "colab": {
          "base_uri": "https://localhost:8080/"
        },
        "id": "N20Pxz42GaE4",
        "outputId": "6642f3ad-a218-42f3-da8e-88b325725b10"
      },
      "source": [
        "pip install pyPDF2"
      ],
      "execution_count": null,
      "outputs": [
        {
          "output_type": "stream",
          "text": [
            "Collecting pyPDF2\n",
            "\u001b[?25l  Downloading https://files.pythonhosted.org/packages/b4/01/68fcc0d43daf4c6bdbc6b33cc3f77bda531c86b174cac56ef0ffdb96faab/PyPDF2-1.26.0.tar.gz (77kB)\n",
            "\r\u001b[K     |████▎                           | 10kB 14.2MB/s eta 0:00:01\r\u001b[K     |████████▌                       | 20kB 19.8MB/s eta 0:00:01\r\u001b[K     |████████████▊                   | 30kB 24.3MB/s eta 0:00:01\r\u001b[K     |█████████████████               | 40kB 22.7MB/s eta 0:00:01\r\u001b[K     |█████████████████████▏          | 51kB 17.2MB/s eta 0:00:01\r\u001b[K     |█████████████████████████▍      | 61kB 13.5MB/s eta 0:00:01\r\u001b[K     |█████████████████████████████▋  | 71kB 12.6MB/s eta 0:00:01\r\u001b[K     |████████████████████████████████| 81kB 5.4MB/s \n",
            "\u001b[?25hBuilding wheels for collected packages: pyPDF2\n",
            "  Building wheel for pyPDF2 (setup.py) ... \u001b[?25l\u001b[?25hdone\n",
            "  Created wheel for pyPDF2: filename=PyPDF2-1.26.0-cp37-none-any.whl size=61102 sha256=49d0f7251ae7ba19b4d6aa2513593779f952cd5c2efe43cc45006026418a51f1\n",
            "  Stored in directory: /root/.cache/pip/wheels/53/84/19/35bc977c8bf5f0c23a8a011aa958acd4da4bbd7a229315c1b7\n",
            "Successfully built pyPDF2\n",
            "Installing collected packages: pyPDF2\n",
            "Successfully installed pyPDF2-1.26.0\n"
          ],
          "name": "stdout"
        }
      ]
    },
    {
      "cell_type": "code",
      "metadata": {
        "colab": {
          "base_uri": "https://localhost:8080/"
        },
        "id": "mIPDSnVPGinR",
        "outputId": "1ff3fc6d-ba7d-4019-d7a7-6647a397703e"
      },
      "source": [
        "pip install gtts"
      ],
      "execution_count": null,
      "outputs": [
        {
          "output_type": "stream",
          "text": [
            "Collecting gtts\n",
            "  Downloading https://files.pythonhosted.org/packages/e4/9e/fe139150719281309c6e52a799e86d7d8d19f6f2593b340e3693f6ef2c77/gTTS-2.2.3-py3-none-any.whl\n",
            "Requirement already satisfied: six in /usr/local/lib/python3.7/dist-packages (from gtts) (1.15.0)\n",
            "Requirement already satisfied: click in /usr/local/lib/python3.7/dist-packages (from gtts) (7.1.2)\n",
            "Requirement already satisfied: requests in /usr/local/lib/python3.7/dist-packages (from gtts) (2.23.0)\n",
            "Requirement already satisfied: urllib3!=1.25.0,!=1.25.1,<1.26,>=1.21.1 in /usr/local/lib/python3.7/dist-packages (from requests->gtts) (1.24.3)\n",
            "Requirement already satisfied: certifi>=2017.4.17 in /usr/local/lib/python3.7/dist-packages (from requests->gtts) (2021.5.30)\n",
            "Requirement already satisfied: chardet<4,>=3.0.2 in /usr/local/lib/python3.7/dist-packages (from requests->gtts) (3.0.4)\n",
            "Requirement already satisfied: idna<3,>=2.5 in /usr/local/lib/python3.7/dist-packages (from requests->gtts) (2.10)\n",
            "Installing collected packages: gtts\n",
            "Successfully installed gtts-2.2.3\n"
          ],
          "name": "stdout"
        }
      ]
    },
    {
      "cell_type": "code",
      "metadata": {
        "id": "ny7ZNTzAGmDb"
      },
      "source": [
        "import PyPDF2\n",
        "import os\n",
        "from gtts import gTTS"
      ],
      "execution_count": null,
      "outputs": []
    },
    {
      "cell_type": "code",
      "metadata": {
        "colab": {
          "base_uri": "https://localhost:8080/"
        },
        "id": "aI7P29xAGsVU",
        "outputId": "5f336ecf-512d-4382-bf3b-99c00622b974"
      },
      "source": [
        "path = open('/content/story.pdf', 'rb')\n",
        "\n",
        "\n",
        "#Now we haveto sysc through the pdf...\n",
        "#we are calling the pdf file to the pdfreader for extracting the content\n",
        "pdfReader = PyPDF2.PdfFileReader(path)\n",
        "\n",
        "#we are navigating throgh the page \n",
        "from_page = pdfReader.getPage(0)\n",
        "\n",
        "#extracting the text from the pdf ....\n",
        "text = from_page.extractText()\n",
        "\n",
        "#we are sending the data to the google api and from there it is doing the mp3 converting thing for us\n",
        "speech = gTTS(text = text, lang = 'en', slow = True) \n",
        "#after that with the help of speech we are saving it in the local folder\n",
        "speech.save('testertxt.mp3')\n",
        "#we are callin os to start our mp3 file \n",
        "os.system(\"audio.mp3\")"
      ],
      "execution_count": null,
      "outputs": [
        {
          "output_type": "execute_result",
          "data": {
            "text/plain": [
              "32512"
            ]
          },
          "metadata": {
            "tags": []
          },
          "execution_count": 4
        }
      ]
    }
  ]
}